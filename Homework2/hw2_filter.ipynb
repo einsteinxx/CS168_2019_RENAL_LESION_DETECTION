{
 "cells": [
  {
   "cell_type": "markdown",
   "metadata": {
    "colab_type": "text",
    "id": "jyQDYmRtFT6s"
   },
   "source": [
    "# Part I Convolution\n",
    "In the first part, you are required to implement a function that performs a 2D convolution on an image."
   ]
  },
  {
   "cell_type": "code",
   "execution_count": 0,
   "metadata": {
    "colab": {},
    "colab_type": "code",
    "id": "vRGigp1vcdOK"
   },
   "outputs": [],
   "source": [
    "import numpy as np\n",
    "from PIL import Image\n",
    "from matplotlib import pyplot as plt\n",
    "import math"
   ]
  },
  {
   "cell_type": "markdown",
   "metadata": {
    "colab_type": "text",
    "id": "OsnILBSvC0sz"
   },
   "source": [
    "Please load example1.jpg."
   ]
  },
  {
   "cell_type": "code",
   "execution_count": 0,
   "metadata": {
    "colab": {},
    "colab_type": "code",
    "id": "e9a215hCr7mX"
   },
   "outputs": [],
   "source": [
    "# if you are using Google Colab, please use the below codes to load image\n",
    "from google.colab import files\n",
    "from io import BytesIO\n",
    "uploaded = files.upload()\n",
    "img = Image.open(BytesIO(uploaded['example1.jpg']))"
   ]
  },
  {
   "cell_type": "code",
   "execution_count": 0,
   "metadata": {
    "colab": {},
    "colab_type": "code",
    "id": "tiy6Cry6sMRw"
   },
   "outputs": [],
   "source": [
    "# if you are using local jupyter notebook, please use the below codes to load image\n",
    "img = Image.open('example1.jpg')"
   ]
  },
  {
   "cell_type": "code",
   "execution_count": 0,
   "metadata": {
    "colab": {},
    "colab_type": "code",
    "id": "1blj4EHPZzqG"
   },
   "outputs": [],
   "source": [
    "# Show the image\n",
    "h,w,_ = np.shape(img)\n",
    "print('height:',h,' width: ',w)\n",
    "plt.figure()\n",
    "plt.imshow(img)\n",
    "plt.show()"
   ]
  },
  {
   "cell_type": "code",
   "execution_count": 0,
   "metadata": {
    "colab": {},
    "colab_type": "code",
    "id": "YpTbBzRWqKQc"
   },
   "outputs": [],
   "source": [
    "# now convert the RGB image into the gray image for further process\n",
    "gray_image = np.array(img.convert('L'))\n",
    "plt.figure()\n",
    "plt.imshow(gray_image, cmap='gray')\n",
    "plt.show()"
   ]
  },
  {
   "cell_type": "markdown",
   "metadata": {
    "colab_type": "text",
    "id": "GwkFHVy2CvoM"
   },
   "source": [
    "## Question 1\n",
    "Now you shoud implement your 2d convolution function. \n",
    "\n",
    "The output image should have the same shape as the input. \n",
    "\n",
    "For border strategy, you will assume that value of the pixels falling outside the input image is 0."
   ]
  },
  {
   "cell_type": "code",
   "execution_count": 0,
   "metadata": {
    "colab": {},
    "colab_type": "code",
    "id": "XGUI-T7ZDFek"
   },
   "outputs": [],
   "source": [
    "def convolution_2d(image, filter):\n",
    "  '''\n",
    "  Write your own code here\n",
    "  '''\n",
    "  return output"
   ]
  },
  {
   "cell_type": "markdown",
   "metadata": {
    "colab_type": "text",
    "id": "IfH8Kt4U1N5N"
   },
   "source": [
    "Now we will check the result after a gaussian filter. If you write the 2d convolution correctly,  you will find the image become vague"
   ]
  },
  {
   "cell_type": "code",
   "execution_count": 0,
   "metadata": {
    "colab": {},
    "colab_type": "code",
    "id": "1N99C3MeXUsf"
   },
   "outputs": [],
   "source": [
    "# Gaussian filter\n",
    "def get_gaussian(filter_size, sigma):\n",
    "  # return a gaussian filter with a size of filter_size and parameter sigma\n",
    "    dim_n = len(filter_size)\n",
    "    gaussian_weight = np.zeros(shape=filter_size)\n",
    "    if dim_n == 2:\n",
    "        dim_x, dim_y = filter_size\n",
    "        center_x = dim_x/2\n",
    "        center_y = dim_y/2\n",
    "        for id_x in range(dim_x):\n",
    "            for id_y in range(dim_y):\n",
    "                weight = (id_x-center_x) ** 2 + (id_y-center_y)**2\n",
    "                gaussian_weight[id_x, id_y] = math.exp(-weight/(2*sigma**2))/(math.sqrt(2*math.pi)*sigma)\n",
    "    return gaussian_weight\n",
    "\n",
    "gaussian_filter = get_gaussian([5, 5], 4)\n",
    "output_gaussian = convolution_2d(gray_image, gaussian_filter)\n",
    "plt.figure()\n",
    "plt.imshow(output_gaussian, cmap='gray')\n",
    "plt.show()"
   ]
  },
  {
   "cell_type": "markdown",
   "metadata": {
    "colab_type": "text",
    "id": "I-tMPwgN2atE"
   },
   "source": [
    "Compare your result with the output from the convolution function provided by scipy. You will get full credit if your output shape is right and the mse error is smaller than 1e-5"
   ]
  },
  {
   "cell_type": "code",
   "execution_count": 0,
   "metadata": {
    "colab": {},
    "colab_type": "code",
    "id": "Pe--16I-z2-p"
   },
   "outputs": [],
   "source": [
    "from scipy import signal\n",
    "\n",
    "# check the shape of input and output\n",
    "shape_check = np.shape(output_gaussian) == np.shape(gray_image)\n",
    "if shape_check:\n",
    "  print('The shape of the convolution output is the same as input')\n",
    "else:\n",
    "  print('The shape of the convolution output and input do not match, please check your code')\n",
    "  \n",
    "# check the mse error\n",
    "output_standard = signal.convolve2d(gray_image, gaussian_filter, mode='same', boundary='fill', fillvalue=0)\n",
    "mse = np.mean(((output_standard - output_gaussian)/255)**2)\n",
    "print('The mse error is:', mse)"
   ]
  },
  {
   "cell_type": "markdown",
   "metadata": {
    "colab_type": "text",
    "id": "rndQKg8KGFfr"
   },
   "source": [
    "# Bonus\n",
    "Write a function that can determine whether a square filter provided as input is separable. If the filter is separable, the function returns the two 1D vectors of the decomposed 2D filter, like [vector_h, vecor_v]. If not, the function returns None\n",
    "\n",
    "Hint: You can use numpy.linalg.matrix_rank() to determine the rank of a matrix."
   ]
  },
  {
   "cell_type": "markdown",
   "metadata": {
    "colab_type": "text",
    "id": "feWOOke1E4Rh"
   },
   "source": [
    "## Question2: Separate a filter"
   ]
  },
  {
   "cell_type": "code",
   "execution_count": 0,
   "metadata": {
    "colab": {},
    "colab_type": "code",
    "id": "8g87q30wii2s"
   },
   "outputs": [],
   "source": [
    "# the filter is a 2D square matrix\n",
    "# if the filter is separable, it will return two 1d vectors in a form [vector_h, vector_v]\n",
    "# if not, it will return None\n",
    "def separate_filter(filter):\n",
    "  '''\n",
    "  Write your own code here\n",
    "  '''"
   ]
  },
  {
   "cell_type": "markdown",
   "metadata": {
    "colab_type": "text",
    "id": "6L2dC61KjoX9"
   },
   "source": [
    "Now we will check the your code with a random image and a random filter. You will receive full credit if your mse error is less than 1e-5 ."
   ]
  },
  {
   "cell_type": "code",
   "execution_count": 0,
   "metadata": {
    "colab": {},
    "colab_type": "code",
    "id": "rM1UeySWXywW"
   },
   "outputs": [],
   "source": [
    "import time\n",
    "\n",
    "# generate random filter\n",
    "v = np.random.randint(1, 10, size=[5, 1])\n",
    "h = np.random.randint(1, 10, size=[1, 5])\n",
    "random_filter = h*v\n",
    "\n",
    "# generate a random image\n",
    "random_image = np.random.randint(0, 255, size=[1000, 1000])\n",
    "\n",
    "# original_convolution\n",
    "start_time = time.time()\n",
    "output_2d = convolution_2d(np.array(random_image), filter)\n",
    "end_time = time.time()\n",
    "time_1 = end_time - start_time\n",
    "print('execution time for 2D convolution is: %.3f s'%(time_1))\n",
    "\n",
    "\n",
    "# convolution with seperable filters\n",
    "separate_result = separate_filter(filter)\n",
    "if not separate_result:\n",
    "  print('The filter is not separable')\n",
    "else:\n",
    "  start_time = time.time()\n",
    "  filter_h, filter_v = separate_result\n",
    "  output_1d = convolution_2d(np.array(random_image), filter_h)\n",
    "  output_1d = convolution_2d(np.array(output_1d), filter_v)\n",
    "  end_time = time.time()\n",
    "  time_2 = end_time - start_time\n",
    "  print('execution time for two 1D convolution is: %.3f s'%(time_2))\n",
    "  \n",
    "  # calculate the mse loss beblow, if your loss is less than 1e-3, meaning that the two operations are equal\n",
    "  err = np.mean(np.power(output_2d - output_1d, 2))\n",
    "  print('The mse loss for the results is: %.6f' % err)\n"
   ]
  },
  {
   "cell_type": "markdown",
   "metadata": {
    "colab_type": "text",
    "id": "M1hasfPZ7F8y"
   },
   "source": [
    "## Question3: Which method runs faster? Give a brief explanation about your result."
   ]
  },
  {
   "cell_type": "markdown",
   "metadata": {
    "colab_type": "text",
    "id": "9qPWFfGn7XOc"
   },
   "source": [
    "You may write your answer here."
   ]
  }
 ],
 "metadata": {
  "colab": {
   "collapsed_sections": [],
   "name": "hw2_filter.ipynb",
   "provenance": [],
   "version": "0.3.2"
  },
  "kernelspec": {
   "display_name": "Python 3",
   "language": "python",
   "name": "python3"
  },
  "language_info": {
   "codemirror_mode": {
    "name": "ipython",
    "version": 3
   },
   "file_extension": ".py",
   "mimetype": "text/x-python",
   "name": "python",
   "nbconvert_exporter": "python",
   "pygments_lexer": "ipython3",
   "version": "3.7.3"
  }
 },
 "nbformat": 4,
 "nbformat_minor": 1
}
