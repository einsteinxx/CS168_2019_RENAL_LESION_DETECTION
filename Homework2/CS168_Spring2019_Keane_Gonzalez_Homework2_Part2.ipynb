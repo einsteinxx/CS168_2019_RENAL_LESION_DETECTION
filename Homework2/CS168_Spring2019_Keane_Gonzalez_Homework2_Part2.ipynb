{
 "cells": [
  {
   "cell_type": "markdown",
   "metadata": {
    "colab_type": "text",
    "id": "FOL3tvsuytjp"
   },
   "source": [
    "# Part II Image Transformation\n",
    "For this part you are required to write some functions for interpolation and transformation.\n"
   ]
  },
  {
   "cell_type": "code",
   "execution_count": 1,
   "metadata": {
    "colab": {},
    "colab_type": "code",
    "id": "zY0shSdDx-4t"
   },
   "outputs": [],
   "source": [
    "import numpy as np\n",
    "from PIL import Image\n",
    "from matplotlib import pyplot as plt\n",
    "import math"
   ]
  },
  {
   "cell_type": "markdown",
   "metadata": {
    "colab_type": "text",
    "id": "7oBSDyTUShdA"
   },
   "source": [
    "Please load the example2.png."
   ]
  },
  {
   "cell_type": "code",
   "execution_count": 2,
   "metadata": {
    "colab": {},
    "colab_type": "code",
    "id": "zclAoz-syEa-"
   },
   "outputs": [],
   "source": [
    "# if you are using Google Colab, please use the below codes to load image\n",
    "#from google.colab import files\n",
    "#from io import BytesIO\n",
    "#uploaded = files.upload()\n",
    "#img = Image.open(BytesIO(uploaded['example2.png']))"
   ]
  },
  {
   "cell_type": "code",
   "execution_count": 2,
   "metadata": {
    "colab": {},
    "colab_type": "code",
    "id": "FknBQAQcdUxy"
   },
   "outputs": [],
   "source": [
    "# if you are using local jupyter notebook, please use the below codes to load image\n",
    "img = Image.open('example2.png')"
   ]
  },
  {
   "cell_type": "code",
   "execution_count": 3,
   "metadata": {
    "colab": {},
    "colab_type": "code",
    "id": "_7J7LOBZ0fTL"
   },
   "outputs": [
    {
     "name": "stdout",
     "output_type": "stream",
     "text": [
      "height: 512  width:  512\n"
     ]
    },
    {
     "data": {
      "image/png": "[encoded data removed]",
      "text/plain": [
       "<Figure size 432x288 with 1 Axes>"
      ]
     },
     "metadata": {
      "needs_background": "light"
     },
     "output_type": "display_data"
    }
   ],
   "source": [
    "# change the image into a gray image \n",
    "img = img.convert('L')\n",
    "h,w = np.shape(img)\n",
    "print('height:',h,' width: ',w)\n",
    "plt.figure()\n",
    "plt.imshow(img, cmap='gray')\n",
    "plt.show()"
   ]
  },
  {
   "cell_type": "markdown",
   "metadata": {
    "colab_type": "text",
    "id": "SWINqsoNFRq9"
   },
   "source": [
    "## Question1: Bilinear Interpolation\n",
    "Here you need to implement a function for bilinear interpolation from scratch.\n",
    "Xq and Yq are arrays of coordinates of the points we want to interpolate. \n",
    "\n",
    "For example, Xq=[0.5, 1.2], Yq=[0.8, 1.9] indicate that we want to interpolate the points (0.5, 0.8) and (1.2, 1.9).\n",
    "\n",
    "The output should be a list of interpolation result."
   ]
  },
  {
   "cell_type": "code",
   "execution_count": 15,
   "metadata": {
    "colab": {},
    "colab_type": "code",
    "id": "rg2dPSEczl5R"
   },
   "outputs": [
    {
     "name": "stdout",
     "output_type": "stream",
     "text": [
      "[52.  0.]\n"
     ]
    }
   ],
   "source": [
    "def interp2(image, Xq, Yq):\n",
    "    #image = np.array(pil_img)\n",
    "    #image conversion done outside of this function\n",
    "    \n",
    "    #print(str(image[5,5]))\n",
    "    #plt.figure()\n",
    "    #plt.imshow(image,cmap='jet')\n",
    "    #plt.colorbar()\n",
    "    #plt.title('Original Phantom Image')\n",
    "    \n",
    "    bdebug = 0\n",
    "    \n",
    "    interp_intensity = np.zeros((len(Xq)))\n",
    "\n",
    "    for ii in range(0,len(Xq)):\n",
    "        x = Xq[ii]\n",
    "        y = Yq[ii]\n",
    "        x1 = int(np.floor(x))\n",
    "        if(bdebug == 1):    print(type(x1))\n",
    "        x2 = int(np.ceil(x))\n",
    "        y1 = int(np.floor(y))\n",
    "        y2 = int(np.ceil(y))\n",
    "        \n",
    "        #corners values with image intensities\n",
    "        Q11 = image[y1,x1]\n",
    "        Q12 = image[y1,x2]\n",
    "        Q21 = image[y2,x1]\n",
    "        Q22 = image[y2,x2]\n",
    "        \n",
    "        r1 = ((x2 - x)/(x2 - x1)) * Q11 + ((x - x1)/(x2 - x1))*Q21\n",
    "        r2 = ((x2 - x)/(x2 - x1)) * Q12 + ((x - x1)/(x2 - x1))*Q22\n",
    "        \n",
    "        if(bdebug == 1):\n",
    "            print('-------')\n",
    "            print(y)\n",
    "            print(y2,y1)\n",
    "            print(y2-y1)\n",
    "            print(Q11)\n",
    "        interp_intensity[ii] = ((y2 - y)/(y2 - y1))*r1 + ((y - y1)/(y2 - y1))*r2\n",
    "\n",
    "#R1 = ((x2 – x)/(x2 – x1))*Q11 + ((x – x1)/(x2 – x1))*Q21\n",
    "\n",
    "#R2 = ((x2 – x)/(x2 – x1))*Q12 + ((x – x1)/(x2 – x1))*Q22\n",
    "    \n",
    "        interp_points = interp_intensity\n",
    "    return interp_points\n",
    "\n",
    "Xq=[254.1, 200.8]\n",
    "Yq=[70.1, 189.5] \n",
    "\n",
    "img.size\n",
    "np_img = np.array(img)\n",
    "out = interp2(np_img,Xq,Yq)\n",
    "print(out)\n",
    "\n"
   ]
  },
  {
   "cell_type": "markdown",
   "metadata": {
    "colab_type": "text",
    "id": "reR38KrvGoSD"
   },
   "source": [
    "## Question 2: Write a function that creates a 2D affine transformation matrix in homogenous and its inverse from a sequence of elementary transformations\n",
    "\n",
    "The input is a list of operation name and its parameters. The operation is restricted to {rotation, shear, shift, scaling}.\n",
    "\n",
    "For example, [('scaling', 1.2), ('shift', [10 20]), ('scaling', .2), ('rotation', 90)]\n",
    "\n",
    "Your return should be the composed affine matrix, and its inverse."
   ]
  },
  {
   "cell_type": "code",
   "execution_count": 4,
   "metadata": {
    "colab": {},
    "colab_type": "code",
    "id": "r8m4Ao_cgGe3"
   },
   "outputs": [
    {
     "name": "stdout",
     "output_type": "stream",
     "text": [
      "3\n",
      "2\n",
      "command is  ROTATE\n",
      "arguments are (118.0,)\n",
      "Found ROTATE\n",
      "[(-0.4694715627858909, -0.8829475928589269, 0), (0.8829475928589269, -0.4694715627858909, 0), (0, 0, 1)]\n",
      "command is  SCALING\n",
      "arguments are (0.5, 0.5)\n",
      "Found SCALING\n",
      "(0.5, 0.5)\n",
      "[(0.5, 0, 0), (0, 0.5, 0), (0, 0, 1)]\n",
      "command is  SHIFT\n",
      "arguments are (0, 0)\n",
      "Found SHIFT\n",
      "[(1, 0, 0), (0, 1, 0), (0, 0, 1)]\n",
      "command list is  ['ROTATE', 'SCALING', 'SHIFT']\n",
      "arg list is [[(118.0,)], (0.5, 0.5), [(0, 0)]]\n",
      "M_train is [[(-0.4694715627858909, -0.8829475928589269, 0), (0.8829475928589269, -0.4694715627858909, 0), (0, 0, 1)], [(0.5, 0, 0), (0, 0.5, 0), (0, 0, 1)], [(1, 0, 0), (0, 1, 0), (0, 0, 1)]]\n",
      "shape of M_train is  (3, 3, 3)\n",
      "Affine output shape is (2,)\n",
      "Affine matrix is  [[(-0.4694715627858909, -0.8829475928589269, 0), (0.8829475928589269, -0.4694715627858909, 0), (0, 0, 1)], [(0.5, 0, 0), (0, 0.5, 0), (0, 0, 1)], [(1, 0, 0), (0, 1, 0), (0, 0, 1)]]\n"
     ]
    }
   ],
   "source": [
    "from numpy.linalg import inv\n",
    "import math\n",
    "\n",
    "'''\n",
    "Order of operations for transform:\n",
    "1. Get center coordinates of image\n",
    "2. Move origin to center coordinates (translate image to 0,0)\n",
    "3. Apply transforms\n",
    "4. move center of new image to middle of image space\n",
    "'''\n",
    "\n",
    "\n",
    "#! numpy cos,sin require inputs as radians\n",
    "deg2rad = np.pi/180.0\n",
    "\n",
    "\n",
    "def rotate(theta):\n",
    "    theta = theta*deg2rad\n",
    "    M = np.zeros((3,3))\n",
    "    c = np.cos(theta)\n",
    "    s = np.sin(theta)\n",
    "    \n",
    "    M = [(c,-s,0),(s,c,0),(0,0,1)]\n",
    "    print(M)\n",
    "    return M\n",
    "\n",
    "def scaling(sx,sy):\n",
    "    M = np.zeros((3,3))\n",
    "    M = [(sx,0,0),(0,sy,0),(0,0,1)]\n",
    "    print(M)\n",
    "    return M[:]\n",
    "\n",
    "def shearx(shx):\n",
    "    M = np.zeros((3,3))\n",
    "    M = [(1,shx,0),(0,1,0),(0,0,1)]\n",
    "    print(M)\n",
    "    return M\n",
    "\n",
    "def shift(tx,ty):\n",
    "    M = np.zeros((3,3))\n",
    "    M = [(1,0,tx),(0,1,ty),(0,0,1)]\n",
    "    print(M)\n",
    "    return M\n",
    "\n",
    "def get_affine_matrix(op_list):\n",
    "    '''\n",
    "    Write your own code here.\n",
    "    '''\n",
    "    affine_matrix = 0\n",
    "    iaffine_matrix = 0\n",
    "    \n",
    "    command_list = []\n",
    "    arg_list = []\n",
    "    M_train = []\n",
    "    \n",
    "    #op_list will need to match the type of transform and its change\n",
    "    \n",
    "    \n",
    "    #scan op_list for the type of transform\n",
    "    print(len(op_list))\n",
    "    print(len(op_list[0]))\n",
    "    for ii in range(0,len(op_list)):\n",
    "        #print(op_list[0][0])\n",
    "        #command = upper(op_list[ii][0])\n",
    "        #convert 1st element in list to uppercase \n",
    "        command = op_list[ii][0].upper()\n",
    "        arg_values = op_list[ii][1:]\n",
    "        print(\"command is \",command)\n",
    "        print(\"arguments are\",str(arg_values))\n",
    "        if(command == 'SCALING'):\n",
    "            print('Found SCALING')\n",
    "            command_list.append('SCALING')\n",
    "            arg_list.append(arg_values)\n",
    "            print(arg_values)\n",
    "            M_train.append(scaling(arg_values[0],arg_values[1]))\n",
    "        elif(command == 'SHIFT'):\n",
    "            print('Found SHIFT')\n",
    "            command_list.append('SHIFT')\n",
    "            arg_list.append([arg_values])\n",
    "            M_train.append(shift(arg_values[0],arg_values[1]))\n",
    "        elif (command == 'ROTATE'):\n",
    "            print('Found ROTATE')\n",
    "            command_list.append('ROTATE')\n",
    "            arg_list.append([arg_values])\n",
    "            M_train.append(rotate(arg_values[0]))\n",
    "        elif (command == 'TRANSLATE'):\n",
    "            print('Found TRANSLATE')\n",
    "            command_list.append('TRANSLATE')\n",
    "            arg_list.append([arg_values])\n",
    "        elif (command == 'SHEAR'):\n",
    "            print('Found SHEAR')\n",
    "            command_list.append('SHEAR')\n",
    "            arg_list.append([arg_values])\n",
    "            M_train.append(shear(arg_values[0],arg_values[1]))\n",
    "        else:\n",
    "            \n",
    "            print(\"Did not find a valid command\")\n",
    "            return\n",
    "    \n",
    "    print('command list is ',command_list)\n",
    "    print('arg list is',arg_list)\n",
    "    print('M_train is',M_train)\n",
    "    print('shape of M_train is ', np.shape(M_train))\n",
    "    \n",
    "    #Now that we have the separate commands and the arguments for each, generate those\n",
    "    #transform matrices\n",
    "    \n",
    "    \n",
    "    \n",
    "    #a = translation(2,1)\n",
    "    #b=scaling(5,7)\n",
    "    #rotation(45)\n",
    "    #shearx(10)\n",
    "\n",
    "    #np.dot(a,b)\n",
    "    affine_matrix = M_train\n",
    "    return affine_matrix, iaffine_matrix\n",
    "\n",
    "shift_val = 256.0\n",
    "\n",
    "output_train = get_affine_matrix([('rotate',118.0), #118.0),\n",
    "                                  ('scaling',0.5,0.5),\n",
    "                                  ('shift',0,0)])\n",
    "print('Affine output shape is',np.shape(output_train))\n",
    "print('Affine matrix is ',output_train[0])"
   ]
  },
  {
   "cell_type": "markdown",
   "metadata": {
    "colab_type": "text",
    "id": "N158vfRMHV07"
   },
   "source": [
    "## Question 3: Based on the below two functions, write a code to achieve the operation of rotation and scaling."
   ]
  },
  {
   "cell_type": "markdown",
   "metadata": {
    "colab_type": "text",
    "id": "ZwevDbHWSHex"
   },
   "source": [
    "Here you need to write a transformation function which takes the input, affine matrix, iaffine matrix and new shape of your output image. We will compare your transformation result with the functions provided by PIL after a rotation and scaling.\n",
    "\n",
    "The return should be a 2d matrix of of the result of transforming an image."
   ]
  },
  {
   "cell_type": "code",
   "execution_count": 6,
   "metadata": {
    "colab": {},
    "colab_type": "code",
    "id": "xpQ9QUcvp5cp"
   },
   "outputs": [
    {
     "name": "stdout",
     "output_type": "stream",
     "text": [
      "T:  img type is  <class 'PIL.Image.Image'>\n",
      "-----img array from PIL is  (512, 512)\n",
      "1\n",
      "3\n",
      "command is  SCALING\n",
      "arguments are (1.0, 1.0)\n",
      "Found SCALING\n",
      "(1.0, 1.0)\n",
      "[(1.0, 0, 0), (0, 1.0, 0), (0, 0, 1)]\n",
      "command list is  ['SCALING']\n",
      "arg list is [(1.0, 1.0)]\n",
      "M_train is [[(1.0, 0, 0), (0, 1.0, 0), (0, 0, 1)]]\n",
      "shape of M_train is  (1, 3, 3)\n",
      "length of affine transform list is  3\n",
      "center location of input image is  256 256\n",
      "[(1, 0, -256), (0, 1, -256), (0, 0, 1)]\n",
      "[(1, 0, 128), (0, 1, 128), (0, 0, 1)]\n",
      "T:  new img shape is (512, 512)\n",
      "T: affine is [[(1, 0, -256), (0, 1, -256), (0, 0, 1)], [(-0.4694715627858909, -0.8829475928589269, 0), (0.8829475928589269, -0.4694715627858909, 0), (0, 0, 1)], [(0.5, 0, 0), (0, 0.5, 0), (0, 0, 1)], [(1, 0, 0), (0, 1, 0), (0, 0, 1)], [(1, 0, 128), (0, 1, 128), (0, 0, 1)]]\n",
      "T:  affine[0] shape is (3, 3)\n",
      "---x is now \n",
      " [(1, 0, -256), (0, 1, -256), (0, 0, 1)]\n",
      "---full is now: \n",
      " [[   1.    0. -256.]\n",
      " [   0.    1. -256.]\n",
      " [   0.    0.    1.]]\n",
      "---x is now \n",
      " [(-0.4694715627858909, -0.8829475928589269, 0), (0.8829475928589269, -0.4694715627858909, 0), (0, 0, 1)]\n",
      "---full is now: \n",
      " [[  -0.46947156   -0.88294759  346.21930385]\n",
      " [   0.88294759   -0.46947156 -105.8498637 ]\n",
      " [   0.            0.            1.        ]]\n",
      "---x is now \n",
      " [(0.5, 0, 0), (0, 0.5, 0), (0, 0, 1)]\n",
      "---full is now: \n",
      " [[ -0.23473578  -0.4414738  173.10965192]\n",
      " [  0.4414738   -0.23473578 -52.92493185]\n",
      " [  0.           0.           1.        ]]\n",
      "---x is now \n",
      " [(1, 0, 0), (0, 1, 0), (0, 0, 1)]\n",
      "---full is now: \n",
      " [[ -0.23473578  -0.4414738  173.10965192]\n",
      " [  0.4414738   -0.23473578 -52.92493185]\n",
      " [  0.           0.           1.        ]]\n",
      "---x is now \n",
      " [(1, 0, 128), (0, 1, 128), (0, 0, 1)]\n",
      "---full is now: \n",
      " [[-2.34735781e-01 -4.41473796e-01  3.01109652e+02]\n",
      " [ 4.41473796e-01 -2.34735781e-01  7.50750682e+01]\n",
      " [ 0.00000000e+00  0.00000000e+00  1.00000000e+00]]\n",
      "Full MATRIX---> \n",
      " [[-2.34735781e-01 -4.41473796e-01  3.01109652e+02]\n",
      " [ 4.41473796e-01 -2.34735781e-01  7.50750682e+01]\n",
      " [ 0.00000000e+00  0.00000000e+00  1.00000000e+00]]\n"
     ]
    },
    {
     "data": {
      "text/plain": [
       "<matplotlib.image.AxesImage at 0x7f7f88cf8518>"
      ]
     },
     "execution_count": 6,
     "metadata": {},
     "output_type": "execute_result"
    },
    {
     "data": {
      "image/png": "[encoded data removed]",
      "text/plain": [
       "<Figure size 432x288 with 1 Axes>"
      ]
     },
     "metadata": {
      "needs_background": "light"
     },
     "output_type": "display_data"
    }
   ],
   "source": [
    "# write the code for transform function\n",
    "def transform(img, affine_input, iaffine, new_shape):\n",
    "    '''\n",
    "    Write your own code here.\n",
    "    '''\n",
    "    affine = affine_input.copy()\n",
    "    if(len(new_shape) > 2):\n",
    "        print('Too many sizes for shape')\n",
    "        return 0\n",
    "\n",
    "    print('length of affine transform list is ',len(affine))\n",
    "    \n",
    "    #img = np.array(img)\n",
    "    #output_img = np.zeros((new_shape))\n",
    "    width,height = img.shape     #original image dimensions\n",
    "    output_img = np.zeros((height, width))\n",
    "    \n",
    "    #\n",
    "    # Find center of the image given\n",
    "    # - python is row,col\n",
    "    xc = int(width/2)\n",
    "    yc = int(height/2)\n",
    "    print('center location of input image is ', xc,yc)\n",
    "    move_origin_t=shift(-yc,-xc)\n",
    "    affine.insert(0,move_origin_t) # put initial origin move at front of list of transforms\n",
    "    #the last step should be to move the origin back to the starting point. If the requested\n",
    "    #image size has changed, make sure we don't go past that boundary. Move to half the new size\n",
    "    last_yc = int(np.floor(new_shape[0]/2))\n",
    "    last_xc = int(np.floor(new_shape[1]/2))\n",
    "    affine.append(shift(last_yc,last_xc))\n",
    "    #Before doing any transforms, we must make the center of the image the origin.\n",
    "    \n",
    "    \n",
    "    print(\"T:  new img shape is\",img.shape)\n",
    "    print(\"T: affine is\", affine)\n",
    "    print('T:  affine[0] shape is',np.shape(affine[0]))\n",
    "    position = np.array((3,1))\n",
    "    \n",
    "    rval = np.array((512,3))\n",
    "    for ii in range(height):\n",
    "        for jj in range(width):\n",
    "            pass\n",
    "    \n",
    "    # Pull out full transform matrix\n",
    "    full_transform = np.identity(3)\n",
    "    for x in affine:\n",
    "        print('---x is now \\n',x)\n",
    "        full_transform = np.dot(x,full_transform)\n",
    "        print('---full is now: \\n',full_transform)\n",
    "\n",
    "    print('Full MATRIX---> \\n',full_transform)\n",
    "\n",
    "\n",
    "        \n",
    "                \n",
    "                \n",
    "    debug =0\n",
    "    for row in range(height): \n",
    "        \n",
    "        for col in range(width):\n",
    "            \n",
    "            #print('img val is ',img[row,col])\n",
    "            #print('size of a is',np.shape(a))\n",
    "            #print('size of affine is ',np.shape(affine[0]))\n",
    "            position = [row,col,1]\n",
    "            #print('a values are ',a)\n",
    "            total_transform = np.ones((3,3))\n",
    "            if (debug ==1):   print('ORIGINAL POSITION:-------->  ',position)\n",
    "            for x in affine:\n",
    "                if (debug ==1):    print('x vals are ',x)\n",
    "                total_transform = total_transform * x\n",
    "                if (debug ==1):    print('total_transform: \\n',total_transform)\n",
    "                position = np.dot(x,position)\n",
    "                if (debug ==1):    print('intermediate pos --->',position)\n",
    "            if (debug ==1):  print('r,c is ',row,col,' position is ', position)\n",
    "            #print('total_transform: ',total_transform)\n",
    "            [yp,xp,b] =  position\n",
    "            #[xp,yp,b]= np.dot(position,affine[0]) #[img[row,col],1] * affine\n",
    "            \n",
    "            \n",
    "            #bilinear interpolation results\n",
    "            #output_img[int(np.floor(yp)),int(np.floor(xp))] = interp2(img,[xp],[yp])\n",
    "            \n",
    "            \n",
    "            output_img[int(np.floor(yp)),int(np.floor(xp))] = img[row,col]\n",
    "    #out = get_affine_matrix([('scaling',1.2,5),('rotate',15.0),('shift',5,8)])\n",
    "    #img= img * affine\n",
    "    return output_img\n",
    "\n",
    "print('T:  img type is ',type(img))\n",
    "old_img = img\n",
    "n_img = np.asarray(img)\n",
    "print('-----img array from PIL is ',np.shape(img))\n",
    "\n",
    "#using the previously input set of affine transforms\n",
    "new_img=transform(n_img,\n",
    "                  output_train[0], #series of transforms given earlier\n",
    "                  get_affine_matrix([('scaling',1.0,1.0)])[0],\n",
    "                  [256,256])\n",
    "                  \n",
    "                  #get_affine_matrix([('scaling',1.2,5)])[0],\n",
    "                  #get_affine_matrix([('scaling',1.2,5)])[1],\n",
    "                  #[512,512])\n",
    "\n",
    "plt.figure()\n",
    "plt.imshow(new_img)"
   ]
  },
  {
   "cell_type": "code",
   "execution_count": 8,
   "metadata": {},
   "outputs": [
    {
     "data": {
      "text/plain": [
       "[512, 512, 512, 512]"
      ]
     },
     "execution_count": 8,
     "metadata": {},
     "output_type": "execute_result"
    }
   ],
   "source": [
    "a = [512,512]\n",
    "a* 2"
   ]
  },
  {
   "cell_type": "code",
   "execution_count": 9,
   "metadata": {},
   "outputs": [
    {
     "name": "stdout",
     "output_type": "stream",
     "text": [
      "(3, 1)\n",
      "output train is [(-0.4694715627858909, -0.8829475928589269, 0), (0.8829475928589269, -0.4694715627858909, 0), (0, 0, 1)]\n",
      "[[-47.13219562]\n",
      " [-11.46979234]\n",
      " [  1.        ]]\n",
      "(3, 3)\n",
      "(3, 1)\n",
      "512\n"
     ]
    }
   ],
   "source": [
    "x = np.zeros((3,1))\n",
    "x[0,0] =12\n",
    "x[1,0] = 47\n",
    "x[2,0]=1\n",
    "print(x.shape)\n",
    "print('output train is', output_train[0][0])\n",
    "print(np.dot(output_train[0][0],x))\n",
    "print(np.shape(output_train[0][0]))\n",
    "print(np.shape(x))\n",
    "output_train[0] @x\n",
    "print(w)\n"
   ]
  },
  {
   "cell_type": "markdown",
   "metadata": {
    "colab_type": "text",
    "id": "jbrhUCzsqAfW"
   },
   "source": [
    "Now we will check if your result compared with the functions from PIL. You will get full credit if you can have a similar output."
   ]
  },
  {
   "cell_type": "code",
   "execution_count": 10,
   "metadata": {
    "colab": {},
    "colab_type": "code",
    "id": "YjIA-GGGroIL"
   },
   "outputs": [
    {
     "data": {
      "image/png": "[encoded data removed]",
      "text/plain": [
       "<Figure size 432x288 with 1 Axes>"
      ]
     },
     "metadata": {
      "needs_background": "light"
     },
     "output_type": "display_data"
    }
   ],
   "source": [
    "# show the standard transformation result\n",
    "theta = 118\n",
    "scaling_rate = 0.5\n",
    "standard_img = (img.rotate(theta)).resize((int(h*scaling_rate), int(w*scaling_rate)))\n",
    "plt.figure()\n",
    "plt.imshow(standard_img, cmap='gray')\n",
    "plt.show()"
   ]
  },
  {
   "cell_type": "code",
   "execution_count": 11,
   "metadata": {
    "colab": {},
    "colab_type": "code",
    "id": "Qr-69OxbdtuJ"
   },
   "outputs": [
    {
     "name": "stdout",
     "output_type": "stream",
     "text": [
      "4\n",
      "2\n",
      "command is  SHIFT\n",
      "arguments are ([-256.0, -256.0],)\n",
      "Found SHIFT\n"
     ]
    },
    {
     "ename": "IndexError",
     "evalue": "tuple index out of range",
     "output_type": "error",
     "traceback": [
      "\u001b[0;31m---------------------------------------------------------------------------\u001b[0m",
      "\u001b[0;31mIndexError\u001b[0m                                Traceback (most recent call last)",
      "\u001b[0;32m<ipython-input-11-c09e91062e4c>\u001b[0m in \u001b[0;36m<module>\u001b[0;34m\u001b[0m\n\u001b[1;32m      5\u001b[0m \u001b[0mh\u001b[0m\u001b[0;34m,\u001b[0m \u001b[0mw\u001b[0m \u001b[0;34m=\u001b[0m \u001b[0mnp\u001b[0m\u001b[0;34m.\u001b[0m\u001b[0mshape\u001b[0m\u001b[0;34m(\u001b[0m\u001b[0mimg\u001b[0m\u001b[0;34m)\u001b[0m\u001b[0;34m\u001b[0m\u001b[0;34m\u001b[0m\u001b[0m\n\u001b[1;32m      6\u001b[0m \u001b[0;31m# get the related affine matrix\u001b[0m\u001b[0;34m\u001b[0m\u001b[0;34m\u001b[0m\u001b[0;34m\u001b[0m\u001b[0m\n\u001b[0;32m----> 7\u001b[0;31m \u001b[0maffine\u001b[0m\u001b[0;34m,\u001b[0m \u001b[0miaffine\u001b[0m \u001b[0;34m=\u001b[0m \u001b[0mget_affine_matrix\u001b[0m\u001b[0;34m(\u001b[0m\u001b[0;34m[\u001b[0m\u001b[0;34m(\u001b[0m\u001b[0;34m'shift'\u001b[0m\u001b[0;34m,\u001b[0m \u001b[0;34m[\u001b[0m\u001b[0;34m-\u001b[0m\u001b[0mw\u001b[0m\u001b[0;34m/\u001b[0m\u001b[0;36m2\u001b[0m\u001b[0;34m,\u001b[0m \u001b[0;34m-\u001b[0m\u001b[0mh\u001b[0m\u001b[0;34m/\u001b[0m\u001b[0;36m2\u001b[0m\u001b[0;34m]\u001b[0m\u001b[0;34m)\u001b[0m\u001b[0;34m,\u001b[0m\u001b[0;34m(\u001b[0m\u001b[0;34m'rotation'\u001b[0m\u001b[0;34m,\u001b[0m\u001b[0mtheta\u001b[0m\u001b[0;34m)\u001b[0m\u001b[0;34m,\u001b[0m \u001b[0;34m(\u001b[0m\u001b[0;34m'shift'\u001b[0m\u001b[0;34m,\u001b[0m \u001b[0;34m[\u001b[0m\u001b[0mw\u001b[0m\u001b[0;34m/\u001b[0m\u001b[0;36m2\u001b[0m\u001b[0;34m,\u001b[0m \u001b[0mh\u001b[0m\u001b[0;34m/\u001b[0m\u001b[0;36m2\u001b[0m\u001b[0;34m]\u001b[0m\u001b[0;34m)\u001b[0m\u001b[0;34m,\u001b[0m \u001b[0;34m(\u001b[0m\u001b[0;34m'scaling'\u001b[0m\u001b[0;34m,\u001b[0m \u001b[0mscaling_rate\u001b[0m\u001b[0;34m)\u001b[0m\u001b[0;34m]\u001b[0m\u001b[0;34m)\u001b[0m\u001b[0;34m\u001b[0m\u001b[0;34m\u001b[0m\u001b[0m\n\u001b[0m\u001b[1;32m      8\u001b[0m \u001b[0;31m# transform the image\u001b[0m\u001b[0;34m\u001b[0m\u001b[0;34m\u001b[0m\u001b[0;34m\u001b[0m\u001b[0m\n\u001b[1;32m      9\u001b[0m \u001b[0mtransfered_img\u001b[0m \u001b[0;34m=\u001b[0m \u001b[0mtransform\u001b[0m\u001b[0;34m(\u001b[0m\u001b[0mnp\u001b[0m\u001b[0;34m.\u001b[0m\u001b[0marray\u001b[0m\u001b[0;34m(\u001b[0m\u001b[0mimg\u001b[0m\u001b[0;34m)\u001b[0m\u001b[0;34m,\u001b[0m \u001b[0maffine\u001b[0m\u001b[0;34m,\u001b[0m \u001b[0miaffine\u001b[0m\u001b[0;34m,\u001b[0m \u001b[0mnew_shape\u001b[0m\u001b[0;34m)\u001b[0m\u001b[0;34m\u001b[0m\u001b[0;34m\u001b[0m\u001b[0m\n",
      "\u001b[0;32m<ipython-input-6-84d46db17094>\u001b[0m in \u001b[0;36mget_affine_matrix\u001b[0;34m(op_list)\u001b[0m\n\u001b[1;32m     78\u001b[0m             \u001b[0mcommand_list\u001b[0m\u001b[0;34m.\u001b[0m\u001b[0mappend\u001b[0m\u001b[0;34m(\u001b[0m\u001b[0;34m'SHIFT'\u001b[0m\u001b[0;34m)\u001b[0m\u001b[0;34m\u001b[0m\u001b[0;34m\u001b[0m\u001b[0m\n\u001b[1;32m     79\u001b[0m             \u001b[0marg_list\u001b[0m\u001b[0;34m.\u001b[0m\u001b[0mappend\u001b[0m\u001b[0;34m(\u001b[0m\u001b[0;34m[\u001b[0m\u001b[0marg_values\u001b[0m\u001b[0;34m]\u001b[0m\u001b[0;34m)\u001b[0m\u001b[0;34m\u001b[0m\u001b[0;34m\u001b[0m\u001b[0m\n\u001b[0;32m---> 80\u001b[0;31m             \u001b[0mM_train\u001b[0m\u001b[0;34m.\u001b[0m\u001b[0mappend\u001b[0m\u001b[0;34m(\u001b[0m\u001b[0mshift\u001b[0m\u001b[0;34m(\u001b[0m\u001b[0marg_values\u001b[0m\u001b[0;34m[\u001b[0m\u001b[0;36m0\u001b[0m\u001b[0;34m]\u001b[0m\u001b[0;34m,\u001b[0m\u001b[0marg_values\u001b[0m\u001b[0;34m[\u001b[0m\u001b[0;36m1\u001b[0m\u001b[0;34m]\u001b[0m\u001b[0;34m)\u001b[0m\u001b[0;34m)\u001b[0m\u001b[0;34m\u001b[0m\u001b[0;34m\u001b[0m\u001b[0m\n\u001b[0m\u001b[1;32m     81\u001b[0m         \u001b[0;32melif\u001b[0m \u001b[0;34m(\u001b[0m\u001b[0mcommand\u001b[0m \u001b[0;34m==\u001b[0m \u001b[0;34m'ROTATE'\u001b[0m\u001b[0;34m)\u001b[0m\u001b[0;34m:\u001b[0m\u001b[0;34m\u001b[0m\u001b[0;34m\u001b[0m\u001b[0m\n\u001b[1;32m     82\u001b[0m             \u001b[0mprint\u001b[0m\u001b[0;34m(\u001b[0m\u001b[0;34m'Found ROTATE'\u001b[0m\u001b[0;34m)\u001b[0m\u001b[0;34m\u001b[0m\u001b[0;34m\u001b[0m\u001b[0m\n",
      "\u001b[0;31mIndexError\u001b[0m: tuple index out of range"
     ]
    }
   ],
   "source": [
    "# show your transformation result\n",
    "\n",
    "# get the shape of the output\n",
    "new_shape = (np.array(np.shape(img))*scaling_rate).astype(int)\n",
    "h, w = np.shape(img)\n",
    "# get the related affine matrix\n",
    "affine, iaffine = get_affine_matrix([('shift', [-w/2, -h/2]),('rotation',theta), ('shift', [w/2, h/2]), ('scaling', scaling_rate)])\n",
    "# transform the image\n",
    "transfered_img = transform(np.array(img), affine, iaffine, new_shape)\n",
    "plt.figure()\n",
    "plt.imshow(transfered_img, cmap='gray')\n",
    "plt.show()"
   ]
  },
  {
   "cell_type": "markdown",
   "metadata": {
    "colab_type": "text",
    "id": "IsLx_Qehh5VO"
   },
   "source": [
    "# Bonus: Write a solver function that retrieves the affine transformation (in terms of a sequence of elementary transformations) between two provided images (depicting the same object transformed by an affine transformation). Justify your approach and comment on the limitations."
   ]
  },
  {
   "cell_type": "code",
   "execution_count": null,
   "metadata": {
    "colab": {},
    "colab_type": "code",
    "id": "qlVVI0IAS7Ao"
   },
   "outputs": [],
   "source": [
    "# generate the random transformation\n",
    "random_theta = np.random.random()*180\n",
    "random_scaling = np.random.random()*0.5 + 0.5\n",
    "random_shift_x = (np.random.random()-0.5)*w*0.1\n",
    "random_shift_y = (np.random.random()-0.5)*h*0.1\n",
    "\n",
    "# get the random transformed image\n",
    "random_shape = (np.array(np.shape(img))*random_scaling).astype(int)\n",
    "# affine, iaffine = get_affine_matrix([('rotation', random_theta), ('scaling', random_scaling), ('shift', [random_shift_x, random_shift_y])])\n",
    "affine, iaffine = get_affine_matrix([('shift', [-w/2, -h/2]),('rotation',theta), ('shift', [w/2, h/2]), ('scaling', random_scaling), ('shift', [random_shift_x, random_shift_y])])\n",
    "random_transformed_img = transform(np.array(img), affine, iaffine, random_shape)\n",
    "\n",
    "# show the image\n",
    "plt.figure()\n",
    "plt.imshow(random_transformed_img, cmap='gray')\n",
    "plt.show()\n",
    "\n",
    "# show the affine matrix\n",
    "print(affine)"
   ]
  },
  {
   "cell_type": "markdown",
   "metadata": {
    "colab_type": "text",
    "id": "7W3y5tEvsCG5"
   },
   "source": [
    "Now write your own code to get the affine matrix based on the original image and random transformed image. And give a description of your method and result."
   ]
  },
  {
   "cell_type": "code",
   "execution_count": null,
   "metadata": {
    "colab": {},
    "colab_type": "code",
    "id": "hBAr63XgguNx"
   },
   "outputs": [],
   "source": [
    "def solver(img, random_transformed_img):\n",
    "  return affine_matrix"
   ]
  },
  {
   "cell_type": "markdown",
   "metadata": {
    "colab_type": "text",
    "id": "sJQVDv1ujood"
   },
   "source": []
  }
 ],
 "metadata": {
  "colab": {
   "collapsed_sections": [],
   "name": "hw2_interpolation.ipynb",
   "provenance": [],
   "version": "0.3.2"
  },
  "kernelspec": {
   "display_name": "Python 3",
   "language": "python",
   "name": "python3"
  },
  "language_info": {
   "codemirror_mode": {
    "name": "ipython",
    "version": 3
   },
   "file_extension": ".py",
   "mimetype": "text/x-python",
   "name": "python",
   "nbconvert_exporter": "python",
   "pygments_lexer": "ipython3",
   "version": "3.6.8"
  }
 },
 "nbformat": 4,
 "nbformat_minor": 1
}
