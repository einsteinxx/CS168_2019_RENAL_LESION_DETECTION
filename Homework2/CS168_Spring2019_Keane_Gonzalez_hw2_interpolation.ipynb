{
 "cells": [
  {
   "cell_type": "markdown",
   "metadata": {
    "colab_type": "text",
    "id": "FOL3tvsuytjp"
   },
   "source": [
    "# Part II Image Transformation\n",
    "For this part you are required to write some functions for interpolation and transformation.\n"
   ]
  },
  {
   "cell_type": "code",
   "execution_count": 0,
   "metadata": {
    "colab": {},
    "colab_type": "code",
    "id": "zY0shSdDx-4t"
   },
   "outputs": [],
   "source": [
    "import numpy as np\n",
    "from PIL import Image\n",
    "from matplotlib import pyplot as plt\n",
    "import math"
   ]
  },
  {
   "cell_type": "markdown",
   "metadata": {
    "colab_type": "text",
    "id": "7oBSDyTUShdA"
   },
   "source": [
    "Please load the example2.png."
   ]
  },
  {
   "cell_type": "code",
   "execution_count": 0,
   "metadata": {
    "colab": {},
    "colab_type": "code",
    "id": "zclAoz-syEa-"
   },
   "outputs": [],
   "source": [
    "# if you are using Google Colab, please use the below codes to load image\n",
    "from google.colab import files\n",
    "from io import BytesIO\n",
    "uploaded = files.upload()\n",
    "img = Image.open(BytesIO(uploaded['example2.png']))"
   ]
  },
  {
   "cell_type": "code",
   "execution_count": 0,
   "metadata": {
    "colab": {},
    "colab_type": "code",
    "id": "FknBQAQcdUxy"
   },
   "outputs": [],
   "source": [
    "# if you are using local jupyter notebook, please use the below codes to load image\n",
    "img = Image.open('example2.png')"
   ]
  },
  {
   "cell_type": "code",
   "execution_count": 0,
   "metadata": {
    "colab": {},
    "colab_type": "code",
    "id": "_7J7LOBZ0fTL"
   },
   "outputs": [],
   "source": [
    "# change the image into a gray image \n",
    "img = img.convert('L')\n",
    "h,w = np.shape(img)\n",
    "print('height:',h,' width: ',w)\n",
    "plt.figure()\n",
    "plt.imshow(img, cmap='gray')\n",
    "plt.show()"
   ]
  },
  {
   "cell_type": "markdown",
   "metadata": {
    "colab_type": "text",
    "id": "SWINqsoNFRq9"
   },
   "source": [
    "## Question1: Bilinear Interpolation\n",
    "Here you need to implement a function for bilinear interpolation from scratch.\n",
    "Xq and Yq are arrays of coordinates of the points we want to interpolate. \n",
    "\n",
    "For example, Xq=[0.5, 1.2], Yq=[0.8, 1.9] indicate that we want to interpolate the points (0.5, 0.8) and (1.2, 1.9).\n",
    "\n",
    "The output should be a list of interpolation result."
   ]
  },
  {
   "cell_type": "code",
   "execution_count": 0,
   "metadata": {
    "colab": {},
    "colab_type": "code",
    "id": "rg2dPSEczl5R"
   },
   "outputs": [],
   "source": [
    "def interp2(image, Xq, Yq):\n",
    "  '''\n",
    "  Write your own code here.\n",
    "  '''\n",
    "  return interp_points"
   ]
  },
  {
   "cell_type": "markdown",
   "metadata": {
    "colab_type": "text",
    "id": "reR38KrvGoSD"
   },
   "source": [
    "## Question 2: Write a function that creates a 2D affine transformation matrix in homogenous and its inverse from a sequence of elementary transformations\n",
    "\n",
    "The input is a list of operation name and its parameters. The operation is restricted to {rotation, shear, shift, scaling}.\n",
    "\n",
    "For example, [('scaling', 1.2), ('shift', [10 20]), ('scaling', .2), ('rotation', 90)]\n",
    "\n",
    "Your return should be the composed affine matrix, and its inverse."
   ]
  },
  {
   "cell_type": "code",
   "execution_count": 0,
   "metadata": {
    "colab": {},
    "colab_type": "code",
    "id": "r8m4Ao_cgGe3"
   },
   "outputs": [],
   "source": [
    "from numpy.linalg import inv\n",
    "import math\n",
    "\n",
    "def get_affine_matrix(op_list):\n",
    "  '''\n",
    "  Write your own code here.\n",
    "  '''\n",
    "  \n",
    "  return affine_matrix, iaffine_matrix"
   ]
  },
  {
   "cell_type": "markdown",
   "metadata": {
    "colab_type": "text",
    "id": "N158vfRMHV07"
   },
   "source": [
    "## Question 3: Based on the below two functions, write a code to achieve the operation of rotation and scaling."
   ]
  },
  {
   "cell_type": "markdown",
   "metadata": {
    "colab_type": "text",
    "id": "ZwevDbHWSHex"
   },
   "source": [
    "Here you need to write a transformation function which takes the input, affine matrix, iaffine matrix and new shape of your output image. We will compare your transformation result with the functions provided by PIL after a rotation and scaling.\n",
    "\n",
    "The return should be a 2d matrix of of the result of transforming an image."
   ]
  },
  {
   "cell_type": "code",
   "execution_count": 0,
   "metadata": {
    "colab": {},
    "colab_type": "code",
    "id": "xpQ9QUcvp5cp"
   },
   "outputs": [],
   "source": [
    "# write the code for transform function\n",
    "def transform(img, affine, iaffine, new_shape):\n",
    "  '''\n",
    "  Write your own code here.\n",
    "  '''"
   ]
  },
  {
   "cell_type": "markdown",
   "metadata": {
    "colab_type": "text",
    "id": "jbrhUCzsqAfW"
   },
   "source": [
    "Now we will check if your result compared with the functions from PIL. You will get full credit if you can have a similar output."
   ]
  },
  {
   "cell_type": "code",
   "execution_count": 0,
   "metadata": {
    "colab": {},
    "colab_type": "code",
    "id": "YjIA-GGGroIL"
   },
   "outputs": [],
   "source": [
    "# show the standard transformation result\n",
    "theta = 118\n",
    "scaling_rate = 0.5\n",
    "standard_img = (img.rotate(theta)).resize((int(h*scaling_rate), int(w*scaling_rate)))\n",
    "plt.figure()\n",
    "plt.imshow(standard_img, cmap='gray')\n",
    "plt.show()"
   ]
  },
  {
   "cell_type": "code",
   "execution_count": 0,
   "metadata": {
    "colab": {},
    "colab_type": "code",
    "id": "Qr-69OxbdtuJ"
   },
   "outputs": [],
   "source": [
    "# show your transformation result\n",
    "\n",
    "# get the shape of the output\n",
    "new_shape = (np.array(np.shape(img))*scaling_rate).astype(int)\n",
    "h, w = np.shape(img)\n",
    "# get the related affine matrix\n",
    "affine, iaffine = get_affine_matrix([('shift', [-w/2, -h/2]),('rotation',theta), ('shift', [w/2, h/2]), ('scaling', scaling_rate)])\n",
    "# transform the image\n",
    "transfered_img = transform(np.array(img), affine, iaffine, new_shape)\n",
    "plt.figure()\n",
    "plt.imshow(transfered_img, cmap='gray')\n",
    "plt.show()"
   ]
  },
  {
   "cell_type": "markdown",
   "metadata": {
    "colab_type": "text",
    "id": "IsLx_Qehh5VO"
   },
   "source": [
    "# Bonus: Write a solver function that retrieves the affine transformation (in terms of a sequence of elementary transformations) between two provided images (depicting the same object transformed by an affine transformation). Justify your approach and comment on the limitations."
   ]
  },
  {
   "cell_type": "code",
   "execution_count": 0,
   "metadata": {
    "colab": {},
    "colab_type": "code",
    "id": "qlVVI0IAS7Ao"
   },
   "outputs": [],
   "source": [
    "# generate the random transformation\n",
    "random_theta = np.random.random()*180\n",
    "random_scaling = np.random.random()*0.5 + 0.5\n",
    "random_shift_x = (np.random.random()-0.5)*w*0.1\n",
    "random_shift_y = (np.random.random()-0.5)*h*0.1\n",
    "\n",
    "# get the random transformed image\n",
    "random_shape = (np.array(np.shape(img))*random_scaling).astype(int)\n",
    "# affine, iaffine = get_affine_matrix([('rotation', random_theta), ('scaling', random_scaling), ('shift', [random_shift_x, random_shift_y])])\n",
    "affine, iaffine = get_affine_matrix([('shift', [-w/2, -h/2]),('rotation',theta), ('shift', [w/2, h/2]), ('scaling', random_scaling), ('shift', [random_shift_x, random_shift_y])])\n",
    "random_transformed_img = transform(np.array(img), affine, iaffine, random_shape)\n",
    "\n",
    "# show the image\n",
    "plt.figure()\n",
    "plt.imshow(random_transformed_img, cmap='gray')\n",
    "plt.show()\n",
    "\n",
    "# show the affine matrix\n",
    "print(affine)"
   ]
  },
  {
   "cell_type": "markdown",
   "metadata": {
    "colab_type": "text",
    "id": "7W3y5tEvsCG5"
   },
   "source": [
    "Now write your own code to get the affine matrix based on the original image and random transformed image. And give a description of your method and result."
   ]
  },
  {
   "cell_type": "code",
   "execution_count": 0,
   "metadata": {
    "colab": {},
    "colab_type": "code",
    "id": "hBAr63XgguNx"
   },
   "outputs": [],
   "source": [
    "def solver(img, random_transformed_img):\n",
    "  return affine_matrix"
   ]
  },
  {
   "cell_type": "markdown",
   "metadata": {
    "colab_type": "text",
    "id": "sJQVDv1ujood"
   },
   "source": []
  }
 ],
 "metadata": {
  "colab": {
   "collapsed_sections": [],
   "name": "hw2_interpolation.ipynb",
   "provenance": [],
   "version": "0.3.2"
  },
  "kernelspec": {
   "display_name": "Python 3",
   "language": "python",
   "name": "python3"
  },
  "language_info": {
   "codemirror_mode": {
    "name": "ipython",
    "version": 3
   },
   "file_extension": ".py",
   "mimetype": "text/x-python",
   "name": "python",
   "nbconvert_exporter": "python",
   "pygments_lexer": "ipython3",
   "version": "3.7.3"
  }
 },
 "nbformat": 4,
 "nbformat_minor": 1
}
